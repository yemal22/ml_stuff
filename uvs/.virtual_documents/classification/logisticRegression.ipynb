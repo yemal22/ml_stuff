import numpy as np
from sklearn import datasets
from sklearn.model_selection import train_test_split
import matplotlib.pyplot as plt
from LogisticRegression import LogisticRegression


bc = datasets.load_breast_cancer()
X, y = bc.data, bc.target


y.shape


y = y.reshape(-1, 1)


plt.scatter(X[:,1], X[:,2], c=y)


X_train, X_test, y_train, y_test = train_test_split(X, y, test_size=0.2, random_state=1234)


clf = LogisticRegression(n_iterations=50000)


clf.fit(X_train, y_train)


predictions = clf.predict(X_test)


(y_test == predictions).mean()



