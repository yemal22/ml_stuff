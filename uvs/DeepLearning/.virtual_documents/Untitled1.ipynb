import numpy as np


lim = 10
h = 100
W1 = np.linspace(-lim, lim, h)
W2 = np.linspace(-lim, lim, h)

W11, W22 = np.meshgrid(W1, W2)
W_final = np.c_[W11.ravel(), W22.ravel()].T
W_final.shape


b = 0
Z = X.dot(W_final)



