import numpy as np
from sklearn.datasets import make_blobs
import matplotlib.pyplot as plt
from sklearn.metrics import accuracy_score


X, y = make_blobs(n_samples=100, n_features=2, centers=2, random_state=0)
y = y.reshape(-1, 1)
plt.scatter(X[:,0], X[:,1], c=y, cmap='summer')


def initialisation(X:np.array):
    W = np.random.randn(X.shape[1], 1)
    b = np.random.randn(1)
    return (W, b)


def model(X, W, b):
    Z = X.dot(W) + b
    A = 1 / (1 + np.exp(-Z))
    return A


def log_loss(A, y):
    L = 1/len(y) * np.sum(-y * np.log(A) - (1 - y) * np.log(1 - A))
    return L


def gradients(A, X, y):
    dw = 1/len(y) * np.dot(X.T, A - y)
    db = 1/len(y) * np.sum(A - y)
    return (dw, db)


def update(dw, db, W, b, learning_rate):
    W = W - learning_rate*dw
    b = b - learning_rate*db
    return (W, b)


def predict(X, W, b):
    A = model(X, W, b)
    return (A >= 0.5).astype(int)


def artificial_neuron(X, y, learning_rate=0.01, n_iterations=1000):
    W , b = initialisation(X)
    
    costs = []
    for i in range(n_iterations):
        A = model(X, W, b)
        costs.append(log_loss(A, y))
        dw, db = gradients(A, X, y)
        W, b = update(dw, db, W, b, learning_rate)

    y_pred = predict(X, W, b)
    print(accuracy_score(y, y_pred))

    plt.plot(costs)
    return (W, b)


W, b = artificial_neuron(X, y)


fig, ax = plt.subplots()
ax.scatter(X[:, 0], X[:, 1], c=y, cmap='viridis')

x1 = np.linspace(-1, 4, 100)
x2 = ( -W[0] * x1 - b) / W[1]

ax.plot(x1, x2, c='blue', lw=3)


import plotly.graph_objects as go


fig = go.Figure(data=[go.Scatter3d(
    x=X[:, 0].flatten(),
    y=X[:, 1].flatten(),
    z=y.flatten(),
    mode='markers',
    marker=dict(
        size=5,
        color=y.flatten(),
        colorscale='YlGn',
        opacity=0.8,
        reversescale=True
    )
)])

fig.update_layout(template="plotly_dark", margin=dict(l=0, r=0, b=0, t=0))
fig.layout.scene.camera.projection.type = "orthographic"
fig.show()


X0 = np.linspace(X[:, 0].min(), X[:, 0].max(), 100)
X1 = np.linspace(X[:, 1].min(), X[:, 1].max(), 100)
xx0, xx1 = np.meshgrid(X0, X1)
Z = W[0] * xx0 + W[1] * xx1 + b
A = 1 / (1 + np.exp(-Z))

fig = (go.Figure(data=[go.Surface(z=A, x=xx0, y=xx1, colorscale='YlGn', opacity = 0.7, reversescale=True)]))
fig.add_scatter3d(x=X[:, 0].flatten(), y=X[:, 1].flatten(), z=y.flatten(), mode='markers', marker=dict(size=5, color=y.flatten(), colorscale='YlGn', opacity=0.8, reversescale=True))

fig.update_layout(template="plotly_dark", margin=dict(l=0, r=0, b=0, t=0))
fig.layout.scene.camera.projection.type = "orthographic"
fig.show()



