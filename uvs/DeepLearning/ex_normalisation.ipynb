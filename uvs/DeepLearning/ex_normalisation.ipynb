{
 "cells": [
  {
   "cell_type": "code",
   "execution_count": 1,
   "id": "1f844122-cdde-4d10-90e7-b3ba9eb7b4f4",
   "metadata": {},
   "outputs": [],
   "source": [
    "import numpy as np"
   ]
  },
  {
   "cell_type": "code",
   "execution_count": 7,
   "id": "8b9cc9f1-0246-4216-b124-b221b9b0f8a2",
   "metadata": {},
   "outputs": [
    {
     "data": {
      "text/plain": [
       "(2, 10000)"
      ]
     },
     "execution_count": 7,
     "metadata": {},
     "output_type": "execute_result"
    }
   ],
   "source": [
    "lim = 10\n",
    "h = 100\n",
    "W1 = np.linspace(-lim, lim, h)\n",
    "W2 = np.linspace(-lim, lim, h)\n",
    "\n",
    "W11, W22 = np.meshgrid(W1, W2)\n",
    "W_final = np.c_[W11.ravel(), W22.ravel()].T\n",
    "W_final.shape"
   ]
  },
  {
   "cell_type": "code",
   "execution_count": 5,
   "id": "cc0359b2-fb46-4918-9eaf-849576de49bd",
   "metadata": {},
   "outputs": [
    {
     "data": {
      "text/plain": [
       "(100, 100)"
      ]
     },
     "execution_count": 5,
     "metadata": {},
     "output_type": "execute_result"
    }
   ],
   "source": [
    "b = 0\n",
    "Z = X.dot(W_final)"
   ]
  },
  {
   "cell_type": "code",
   "execution_count": null,
   "id": "73226929-e711-4df6-ad3f-facddc60ba24",
   "metadata": {},
   "outputs": [],
   "source": []
  }
 ],
 "metadata": {
  "kernelspec": {
   "display_name": "Python 3 (ipykernel)",
   "language": "python",
   "name": "python3"
  },
  "language_info": {
   "codemirror_mode": {
    "name": "ipython",
    "version": 3
   },
   "file_extension": ".py",
   "mimetype": "text/x-python",
   "name": "python",
   "nbconvert_exporter": "python",
   "pygments_lexer": "ipython3",
   "version": "3.11.7"
  }
 },
 "nbformat": 4,
 "nbformat_minor": 5
}
