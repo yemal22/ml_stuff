{
 "cells": [
  {
   "cell_type": "code",
   "execution_count": 1,
   "id": "4da73acd-3563-4f1d-9891-4f5e5cda2f7d",
   "metadata": {},
   "outputs": [],
   "source": [
    "import numpy as np"
   ]
  },
  {
   "cell_type": "markdown",
   "id": "575ddd86-5c4e-42f0-8cb8-c2b7f08ca6c7",
   "metadata": {},
   "source": [
    "Pour résoudre le système d’équations linéaires 3 * x0 + x1 = 9 et x0 + 2 * x1 = 8 :"
   ]
  },
  {
   "cell_type": "code",
   "execution_count": 4,
   "id": "c15a12d6-9130-49da-ade7-c1c98b355483",
   "metadata": {},
   "outputs": [],
   "source": [
    "A = np.array(\n",
    "    [\n",
    "        [3, 1],\n",
    "        [1, 2]\n",
    "    ]\n",
    ")"
   ]
  },
  {
   "cell_type": "code",
   "execution_count": 6,
   "id": "6bc655f2-e105-4fe2-adb8-a9669033477e",
   "metadata": {},
   "outputs": [
    {
     "data": {
      "text/plain": [
       "3"
      ]
     },
     "execution_count": 6,
     "metadata": {},
     "output_type": "execute_result"
    }
   ],
   "source": [
    "A[0, 0]"
   ]
  },
  {
   "cell_type": "code",
   "execution_count": 8,
   "id": "79fe1388-dfaa-4ed6-b9a2-4b0ee93cef1e",
   "metadata": {},
   "outputs": [
    {
     "data": {
      "text/plain": [
       "(2, 2)"
      ]
     },
     "execution_count": 8,
     "metadata": {},
     "output_type": "execute_result"
    }
   ],
   "source": [
    "A.shape"
   ]
  },
  {
   "cell_type": "code",
   "execution_count": 10,
   "id": "b72372be-7ce8-4483-8853-e450e0347246",
   "metadata": {},
   "outputs": [],
   "source": [
    "B = np.array([\n",
    "    [9],\n",
    "    [8]\n",
    "])"
   ]
  },
  {
   "cell_type": "code",
   "execution_count": 12,
   "id": "0516f1bd-416d-4d4a-bf15-352bb0e04a6c",
   "metadata": {},
   "outputs": [
    {
     "data": {
      "text/plain": [
       "(2, 1)"
      ]
     },
     "execution_count": 12,
     "metadata": {},
     "output_type": "execute_result"
    }
   ],
   "source": [
    "B.shape"
   ]
  },
  {
   "cell_type": "code",
   "execution_count": 16,
   "id": "d2b88fb2-2d5f-4b95-8dd0-6b75a9ca5fbe",
   "metadata": {},
   "outputs": [],
   "source": [
    "X = np.linalg.solve(A, B)"
   ]
  },
  {
   "cell_type": "code",
   "execution_count": 18,
   "id": "b7fab0f6-7be8-4407-9c98-deb4b79a3048",
   "metadata": {},
   "outputs": [
    {
     "data": {
      "text/plain": [
       "array([[2.],\n",
       "       [3.]])"
      ]
     },
     "execution_count": 18,
     "metadata": {},
     "output_type": "execute_result"
    }
   ],
   "source": [
    "X"
   ]
  },
  {
   "cell_type": "code",
   "execution_count": 22,
   "id": "393fdbd8-e36d-41fa-b3a7-c5ff6fda76d3",
   "metadata": {},
   "outputs": [],
   "source": [
    "C = B.T"
   ]
  },
  {
   "cell_type": "code",
   "execution_count": 24,
   "id": "7aa12f73-4834-4b4d-9859-9b62b0345f2d",
   "metadata": {},
   "outputs": [
    {
     "data": {
      "text/plain": [
       "array([[9, 8]])"
      ]
     },
     "execution_count": 24,
     "metadata": {},
     "output_type": "execute_result"
    }
   ],
   "source": [
    "C"
   ]
  },
  {
   "cell_type": "code",
   "execution_count": 26,
   "id": "70faa6b0-ad5e-4fc1-97d2-cb18caae172f",
   "metadata": {},
   "outputs": [
    {
     "data": {
      "text/plain": [
       "(1, 2)"
      ]
     },
     "execution_count": 26,
     "metadata": {},
     "output_type": "execute_result"
    }
   ],
   "source": [
    "C.shape"
   ]
  },
  {
   "cell_type": "code",
   "execution_count": 28,
   "id": "ba64b31f-b827-45c4-a9d4-a79ef19bc0c0",
   "metadata": {},
   "outputs": [],
   "source": [
    "D = np.array([9, 8])"
   ]
  },
  {
   "cell_type": "code",
   "execution_count": 30,
   "id": "887a7485-77a1-4b04-b9f7-d0f93d35d3f5",
   "metadata": {},
   "outputs": [
    {
     "data": {
      "text/plain": [
       "(2,)"
      ]
     },
     "execution_count": 30,
     "metadata": {},
     "output_type": "execute_result"
    }
   ],
   "source": [
    "D.shape"
   ]
  },
  {
   "cell_type": "code",
   "execution_count": 32,
   "id": "7ae00702-85ee-4ae3-b244-fd2627ec0e0b",
   "metadata": {},
   "outputs": [
    {
     "data": {
      "text/plain": [
       "array([9, 8])"
      ]
     },
     "execution_count": 32,
     "metadata": {},
     "output_type": "execute_result"
    }
   ],
   "source": [
    "D"
   ]
  },
  {
   "cell_type": "code",
   "execution_count": 34,
   "id": "fdb17ce5-f1af-4472-b47a-57d2bf62bc82",
   "metadata": {},
   "outputs": [
    {
     "data": {
      "text/plain": [
       "array([[9],\n",
       "       [8]])"
      ]
     },
     "execution_count": 34,
     "metadata": {},
     "output_type": "execute_result"
    }
   ],
   "source": [
    "B"
   ]
  },
  {
   "cell_type": "code",
   "execution_count": 36,
   "id": "3aad299b-8846-4c81-914a-7638df3ce4af",
   "metadata": {},
   "outputs": [],
   "source": [
    "D.resize(2,1)"
   ]
  },
  {
   "cell_type": "code",
   "execution_count": 38,
   "id": "43912dc4-35aa-4337-b64b-592f0ada35db",
   "metadata": {},
   "outputs": [
    {
     "data": {
      "text/plain": [
       "(2, 1)"
      ]
     },
     "execution_count": 38,
     "metadata": {},
     "output_type": "execute_result"
    }
   ],
   "source": [
    "D.shape"
   ]
  },
  {
   "cell_type": "code",
   "execution_count": 40,
   "id": "8f716834-03f8-4752-b990-9f2ef99de82d",
   "metadata": {},
   "outputs": [
    {
     "data": {
      "text/plain": [
       "array([[9],\n",
       "       [8]])"
      ]
     },
     "execution_count": 40,
     "metadata": {},
     "output_type": "execute_result"
    }
   ],
   "source": [
    "D"
   ]
  },
  {
   "cell_type": "code",
   "execution_count": 42,
   "id": "8771fcb3-8de2-44e4-ac7f-e82fd4f6e8b0",
   "metadata": {},
   "outputs": [],
   "source": [
    "D.resize(1, 2)"
   ]
  },
  {
   "cell_type": "code",
   "execution_count": 44,
   "id": "4351edc0-ea42-4986-bae4-ca2c0b28ef22",
   "metadata": {},
   "outputs": [
    {
     "data": {
      "text/plain": [
       "array([[9, 8]])"
      ]
     },
     "execution_count": 44,
     "metadata": {},
     "output_type": "execute_result"
    }
   ],
   "source": [
    "D"
   ]
  },
  {
   "cell_type": "code",
   "execution_count": null,
   "id": "2a66c346-850d-4cf6-b308-afa06b0f6dda",
   "metadata": {},
   "outputs": [],
   "source": []
  }
 ],
 "metadata": {
  "kernelspec": {
   "display_name": "Python 3 (ipykernel)",
   "language": "python",
   "name": "python3"
  },
  "language_info": {
   "codemirror_mode": {
    "name": "ipython",
    "version": 3
   },
   "file_extension": ".py",
   "mimetype": "text/x-python",
   "name": "python",
   "nbconvert_exporter": "python",
   "pygments_lexer": "ipython3",
   "version": "3.11.7"
  }
 },
 "nbformat": 4,
 "nbformat_minor": 5
}
