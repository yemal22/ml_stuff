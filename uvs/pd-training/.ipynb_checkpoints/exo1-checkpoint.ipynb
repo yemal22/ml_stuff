{
 "cells": [
  {
   "cell_type": "code",
   "execution_count": 3,
   "id": "624c7599-1d90-4017-8a60-232be363d0d8",
   "metadata": {},
   "outputs": [],
   "source": [
    "#https://www.tresfacile.net/exercices-sur-la-bibliotheques-pandas-python/"
   ]
  },
  {
   "cell_type": "code",
   "execution_count": 5,
   "id": "cde8b6bb-47b4-454d-8076-b806096aed57",
   "metadata": {},
   "outputs": [],
   "source": [
    "import pandas as pd"
   ]
  },
  {
   "cell_type": "code",
   "execution_count": 9,
   "id": "8c519f50-a709-4071-bbd3-47bc2bebcf11",
   "metadata": {},
   "outputs": [],
   "source": [
    "df = pd.DataFrame(\n",
    "    {\n",
    "        'ID': list('12345'),\n",
    "        'Name': ['Albert', 'Nathalie', 'Robert', 'Jesika', 'Adam'],\n",
    "        'Email': ['albert@gmail.com', 'nathalie@gmail.com', 'robert@gmail.com', 'jesika@gmail.com', 'adam@gmail.com'],\n",
    "        'Selection': ['SVT', 'SC Eco', 'Math', 'Philo', 'Physique']\n",
    "    }\n",
    ")"
   ]
  },
  {
   "cell_type": "code",
   "execution_count": 11,
   "id": "4fbffa83-253a-4f20-8418-131d74c30727",
   "metadata": {},
   "outputs": [
    {
     "data": {
      "text/html": [
       "<div>\n",
       "<style scoped>\n",
       "    .dataframe tbody tr th:only-of-type {\n",
       "        vertical-align: middle;\n",
       "    }\n",
       "\n",
       "    .dataframe tbody tr th {\n",
       "        vertical-align: top;\n",
       "    }\n",
       "\n",
       "    .dataframe thead th {\n",
       "        text-align: right;\n",
       "    }\n",
       "</style>\n",
       "<table border=\"1\" class=\"dataframe\">\n",
       "  <thead>\n",
       "    <tr style=\"text-align: right;\">\n",
       "      <th></th>\n",
       "      <th>ID</th>\n",
       "      <th>Name</th>\n",
       "      <th>Email</th>\n",
       "      <th>Selection</th>\n",
       "    </tr>\n",
       "  </thead>\n",
       "  <tbody>\n",
       "    <tr>\n",
       "      <th>0</th>\n",
       "      <td>1</td>\n",
       "      <td>Albert</td>\n",
       "      <td>albert@gmail.com</td>\n",
       "      <td>SVT</td>\n",
       "    </tr>\n",
       "    <tr>\n",
       "      <th>1</th>\n",
       "      <td>2</td>\n",
       "      <td>Nathalie</td>\n",
       "      <td>nathalie@gmail.com</td>\n",
       "      <td>SC Eco</td>\n",
       "    </tr>\n",
       "    <tr>\n",
       "      <th>2</th>\n",
       "      <td>3</td>\n",
       "      <td>Robert</td>\n",
       "      <td>robert@gmail.com</td>\n",
       "      <td>Math</td>\n",
       "    </tr>\n",
       "    <tr>\n",
       "      <th>3</th>\n",
       "      <td>4</td>\n",
       "      <td>Jesika</td>\n",
       "      <td>jesika@gmail.com</td>\n",
       "      <td>Philo</td>\n",
       "    </tr>\n",
       "    <tr>\n",
       "      <th>4</th>\n",
       "      <td>5</td>\n",
       "      <td>Adam</td>\n",
       "      <td>adam@gmail.com</td>\n",
       "      <td>Physique</td>\n",
       "    </tr>\n",
       "  </tbody>\n",
       "</table>\n",
       "</div>"
      ],
      "text/plain": [
       "  ID      Name               Email Selection\n",
       "0  1    Albert    albert@gmail.com       SVT\n",
       "1  2  Nathalie  nathalie@gmail.com    SC Eco\n",
       "2  3    Robert    robert@gmail.com      Math\n",
       "3  4    Jesika    jesika@gmail.com     Philo\n",
       "4  5      Adam      adam@gmail.com  Physique"
      ]
     },
     "execution_count": 11,
     "metadata": {},
     "output_type": "execute_result"
    }
   ],
   "source": [
    "df"
   ]
  },
  {
   "cell_type": "code",
   "execution_count": null,
   "id": "64649311-cd2a-4dab-b656-6d63bf8e06dc",
   "metadata": {},
   "outputs": [],
   "source": []
  }
 ],
 "metadata": {
  "kernelspec": {
   "display_name": "Python 3 (ipykernel)",
   "language": "python",
   "name": "python3"
  },
  "language_info": {
   "codemirror_mode": {
    "name": "ipython",
    "version": 3
   },
   "file_extension": ".py",
   "mimetype": "text/x-python",
   "name": "python",
   "nbconvert_exporter": "python",
   "pygments_lexer": "ipython3",
   "version": "3.11.7"
  }
 },
 "nbformat": 4,
 "nbformat_minor": 5
}
