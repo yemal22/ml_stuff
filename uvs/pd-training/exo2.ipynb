{
 "cells": [
  {
   "cell_type": "code",
   "execution_count": 2,
   "id": "a7d86a2c-384d-4870-b262-1a29e5132e71",
   "metadata": {},
   "outputs": [],
   "source": [
    "import pandas as pd"
   ]
  },
  {
   "cell_type": "code",
   "execution_count": 4,
   "id": "2f69cd58-ea40-45a7-a8e8-afa606f2adb5",
   "metadata": {},
   "outputs": [],
   "source": [
    "data = pd.Series(['P', 'y', 't', 'h', 'o', 'n'])"
   ]
  },
  {
   "cell_type": "code",
   "execution_count": 6,
   "id": "edb29bc8-3d35-4233-a446-f3f039c32d48",
   "metadata": {},
   "outputs": [
    {
     "data": {
      "text/plain": [
       "['P', 'y', 't', 'h', 'o', 'n']"
      ]
     },
     "execution_count": 6,
     "metadata": {},
     "output_type": "execute_result"
    }
   ],
   "source": [
    "data.to_list()"
   ]
  },
  {
   "cell_type": "code",
   "execution_count": 8,
   "id": "08c4df8d-7613-42e7-a6aa-754e97a6a6d5",
   "metadata": {},
   "outputs": [],
   "source": [
    "tab = data.to_list()"
   ]
  },
  {
   "cell_type": "code",
   "execution_count": 10,
   "id": "786004fd-2e32-4397-b87d-1a5567d6afb5",
   "metadata": {},
   "outputs": [
    {
     "data": {
      "text/plain": [
       "'Python'"
      ]
     },
     "execution_count": 10,
     "metadata": {},
     "output_type": "execute_result"
    }
   ],
   "source": [
    "\"\".join(tab)"
   ]
  },
  {
   "cell_type": "code",
   "execution_count": null,
   "id": "aa13b11b-7cdc-4edb-bb3d-757099086a9a",
   "metadata": {},
   "outputs": [],
   "source": []
  }
 ],
 "metadata": {
  "kernelspec": {
   "display_name": "Python 3 (ipykernel)",
   "language": "python",
   "name": "python3"
  },
  "language_info": {
   "codemirror_mode": {
    "name": "ipython",
    "version": 3
   },
   "file_extension": ".py",
   "mimetype": "text/x-python",
   "name": "python",
   "nbconvert_exporter": "python",
   "pygments_lexer": "ipython3",
   "version": "3.11.7"
  }
 },
 "nbformat": 4,
 "nbformat_minor": 5
}
