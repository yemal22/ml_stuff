{
 "cells": [
  {
   "cell_type": "code",
   "execution_count": 2,
   "id": "78bc59a1-db04-446f-901d-ee28e5569106",
   "metadata": {},
   "outputs": [],
   "source": [
    "import pandas as pd"
   ]
  },
  {
   "cell_type": "markdown",
   "id": "abfa2e40-1f26-4188-a52d-ba42a6e3f3eb",
   "metadata": {},
   "source": [
    "### Exo 3"
   ]
  },
  {
   "cell_type": "code",
   "execution_count": 5,
   "id": "43f70eb1-1cbc-4a59-955a-5b282db27dd5",
   "metadata": {},
   "outputs": [],
   "source": [
    "data3 = pd.Series(['Python' , 'Djnago' , 'Tkinter' , 'PyQt' , 'numpy'])"
   ]
  },
  {
   "cell_type": "code",
   "execution_count": 7,
   "id": "4bd2e47e-01ea-4c71-b2bc-df033abbe3dd",
   "metadata": {},
   "outputs": [
    {
     "data": {
      "text/plain": [
       "0     Python\n",
       "1     Djnago\n",
       "2    Tkinter\n",
       "3       PyQt\n",
       "4      numpy\n",
       "dtype: object"
      ]
     },
     "execution_count": 7,
     "metadata": {},
     "output_type": "execute_result"
    }
   ],
   "source": [
    "data3"
   ]
  },
  {
   "cell_type": "code",
   "execution_count": 17,
   "id": "8982f9c3-0338-4316-bbd4-33b8011d9a56",
   "metadata": {},
   "outputs": [
    {
     "data": {
      "text/plain": [
       "5"
      ]
     },
     "execution_count": 17,
     "metadata": {},
     "output_type": "execute_result"
    }
   ],
   "source": [
    "len(data3)"
   ]
  },
  {
   "cell_type": "code",
   "execution_count": 21,
   "id": "044569d3-724a-4898-b4a5-e3790786e4e6",
   "metadata": {},
   "outputs": [],
   "source": [
    "data3 = data3.drop(data3.shape[0]-1)"
   ]
  },
  {
   "cell_type": "code",
   "execution_count": 23,
   "id": "b9ee351b-7d30-446b-8815-692a9f8702dc",
   "metadata": {},
   "outputs": [
    {
     "data": {
      "text/plain": [
       "0     Python\n",
       "1     Djnago\n",
       "2    Tkinter\n",
       "3       PyQt\n",
       "dtype: object"
      ]
     },
     "execution_count": 23,
     "metadata": {},
     "output_type": "execute_result"
    }
   ],
   "source": [
    "data3"
   ]
  },
  {
   "cell_type": "markdown",
   "id": "5e786531-8872-420f-9b1e-5f795fb9a18b",
   "metadata": {},
   "source": [
    "### Exo4"
   ]
  },
  {
   "cell_type": "code",
   "execution_count": 40,
   "id": "fa0c6797-615b-489b-9e46-fb9d6947672a",
   "metadata": {},
   "outputs": [
    {
     "data": {
      "text/plain": [
       "1    Djnago\n",
       "3      PyQt\n",
       "dtype: object"
      ]
     },
     "execution_count": 40,
     "metadata": {},
     "output_type": "execute_result"
    }
   ],
   "source": [
    "# supprimer les éléments d'index paires\n",
    "data4 = pd.Series(['Python' , 'Djnago' , 'Tkinter' , 'PyQt' , 'numpy'])\n",
    "n = data4.shape[0]\n",
    "n_droped = 0\n",
    "for i in range(n):\n",
    "    if not i%2:\n",
    "        data4 = data4.drop(i)\n",
    "        n_droped+=1\n",
    "\n",
    "data4"
   ]
  },
  {
   "cell_type": "markdown",
   "id": "85c2ce25-e8a2-4ba5-806c-d298e95a37e3",
   "metadata": {},
   "source": [
    "### Exo6"
   ]
  },
  {
   "cell_type": "code",
   "execution_count": 43,
   "id": "ccbe76d3-88dc-4f00-aea7-121209aa8ab3",
   "metadata": {},
   "outputs": [],
   "source": [
    "# liste des données\n",
    "data = [['Tomas' , 'tomas@gmail.com' , 'Math'], \n",
    "        ['Albert' ,'albert@gmail.com' , 'SVT' ],\n",
    "        ['Nathalie', 'nathalie@gmail.com' , 'Sc Eco'], \n",
    "        ['Roberto' ,'roberto@gmail.com' , 'Physique'],\n",
    "        ['Adam' , 'adam@gmail.com' , 'Info']]\n",
    "labels = [11 , 12, 13 , 14, 15]\n",
    " \n",
    "# création du DataFrame\n",
    "df = pd.DataFrame(data , index=labels , columns=[ 'Name' , 'Email' , 'Section'])"
   ]
  },
  {
   "cell_type": "code",
   "execution_count": 45,
   "id": "af7424ed-3ff6-45c0-8463-0e843eaf1a1e",
   "metadata": {},
   "outputs": [
    {
     "data": {
      "text/html": [
       "<div>\n",
       "<style scoped>\n",
       "    .dataframe tbody tr th:only-of-type {\n",
       "        vertical-align: middle;\n",
       "    }\n",
       "\n",
       "    .dataframe tbody tr th {\n",
       "        vertical-align: top;\n",
       "    }\n",
       "\n",
       "    .dataframe thead th {\n",
       "        text-align: right;\n",
       "    }\n",
       "</style>\n",
       "<table border=\"1\" class=\"dataframe\">\n",
       "  <thead>\n",
       "    <tr style=\"text-align: right;\">\n",
       "      <th></th>\n",
       "      <th>Name</th>\n",
       "      <th>Email</th>\n",
       "      <th>Section</th>\n",
       "    </tr>\n",
       "  </thead>\n",
       "  <tbody>\n",
       "    <tr>\n",
       "      <th>11</th>\n",
       "      <td>Tomas</td>\n",
       "      <td>tomas@gmail.com</td>\n",
       "      <td>Math</td>\n",
       "    </tr>\n",
       "    <tr>\n",
       "      <th>12</th>\n",
       "      <td>Albert</td>\n",
       "      <td>albert@gmail.com</td>\n",
       "      <td>SVT</td>\n",
       "    </tr>\n",
       "    <tr>\n",
       "      <th>13</th>\n",
       "      <td>Nathalie</td>\n",
       "      <td>nathalie@gmail.com</td>\n",
       "      <td>Sc Eco</td>\n",
       "    </tr>\n",
       "    <tr>\n",
       "      <th>14</th>\n",
       "      <td>Roberto</td>\n",
       "      <td>roberto@gmail.com</td>\n",
       "      <td>Physique</td>\n",
       "    </tr>\n",
       "    <tr>\n",
       "      <th>15</th>\n",
       "      <td>Adam</td>\n",
       "      <td>adam@gmail.com</td>\n",
       "      <td>Info</td>\n",
       "    </tr>\n",
       "  </tbody>\n",
       "</table>\n",
       "</div>"
      ],
      "text/plain": [
       "        Name               Email   Section\n",
       "11     Tomas     tomas@gmail.com      Math\n",
       "12    Albert    albert@gmail.com       SVT\n",
       "13  Nathalie  nathalie@gmail.com    Sc Eco\n",
       "14   Roberto   roberto@gmail.com  Physique\n",
       "15      Adam      adam@gmail.com      Info"
      ]
     },
     "execution_count": 45,
     "metadata": {},
     "output_type": "execute_result"
    }
   ],
   "source": [
    "df"
   ]
  },
  {
   "cell_type": "code",
   "execution_count": 47,
   "id": "acb2bb8a-bf8e-4c75-a0b4-53b635856384",
   "metadata": {},
   "outputs": [
    {
     "data": {
      "text/html": [
       "<div>\n",
       "<style scoped>\n",
       "    .dataframe tbody tr th:only-of-type {\n",
       "        vertical-align: middle;\n",
       "    }\n",
       "\n",
       "    .dataframe tbody tr th {\n",
       "        vertical-align: top;\n",
       "    }\n",
       "\n",
       "    .dataframe thead th {\n",
       "        text-align: right;\n",
       "    }\n",
       "</style>\n",
       "<table border=\"1\" class=\"dataframe\">\n",
       "  <thead>\n",
       "    <tr style=\"text-align: right;\">\n",
       "      <th></th>\n",
       "      <th>Name</th>\n",
       "      <th>Email</th>\n",
       "      <th>Age</th>\n",
       "    </tr>\n",
       "  </thead>\n",
       "  <tbody>\n",
       "    <tr>\n",
       "      <th>11</th>\n",
       "      <td>Tomas</td>\n",
       "      <td>tomas@gmail.com</td>\n",
       "      <td>22</td>\n",
       "    </tr>\n",
       "    <tr>\n",
       "      <th>12</th>\n",
       "      <td>Albert</td>\n",
       "      <td>albert@gmail.com</td>\n",
       "      <td>23</td>\n",
       "    </tr>\n",
       "    <tr>\n",
       "      <th>13</th>\n",
       "      <td>Nathalie</td>\n",
       "      <td>nathalie@gmail.com</td>\n",
       "      <td>21</td>\n",
       "    </tr>\n",
       "    <tr>\n",
       "      <th>14</th>\n",
       "      <td>Roberto</td>\n",
       "      <td>roberto@gmail.com</td>\n",
       "      <td>20</td>\n",
       "    </tr>\n",
       "    <tr>\n",
       "      <th>15</th>\n",
       "      <td>Adam</td>\n",
       "      <td>adam@gmail.com</td>\n",
       "      <td>25</td>\n",
       "    </tr>\n",
       "  </tbody>\n",
       "</table>\n",
       "</div>"
      ],
      "text/plain": [
       "        Name               Email  Age\n",
       "11     Tomas     tomas@gmail.com   22\n",
       "12    Albert    albert@gmail.com   23\n",
       "13  Nathalie  nathalie@gmail.com   21\n",
       "14   Roberto   roberto@gmail.com   20\n",
       "15      Adam      adam@gmail.com   25"
      ]
     },
     "execution_count": 47,
     "metadata": {},
     "output_type": "execute_result"
    }
   ],
   "source": [
    "df1 = df.drop('Section', axis=1)\n",
    "df1['Age'] = [22, 23, 21, 20, 25]\n",
    "df1"
   ]
  },
  {
   "cell_type": "markdown",
   "id": "f80e4015-fd24-404c-bb95-bc16cfecb2b5",
   "metadata": {},
   "source": [
    "### Exo7"
   ]
  },
  {
   "cell_type": "code",
   "execution_count": 54,
   "id": "a2bbe4a9-5116-47dc-bc70-8350c3ad2ce1",
   "metadata": {},
   "outputs": [],
   "source": [
    "email = df['Email'].to_list()"
   ]
  },
  {
   "cell_type": "code",
   "execution_count": 56,
   "id": "7d08eb8f-8805-4e62-96f7-bd75d38aff7b",
   "metadata": {},
   "outputs": [
    {
     "data": {
      "text/plain": [
       "['tomas@gmail.com',\n",
       " 'albert@gmail.com',\n",
       " 'nathalie@gmail.com',\n",
       " 'roberto@gmail.com',\n",
       " 'adam@gmail.com']"
      ]
     },
     "execution_count": 56,
     "metadata": {},
     "output_type": "execute_result"
    }
   ],
   "source": [
    "email"
   ]
  },
  {
   "cell_type": "markdown",
   "id": "c0debff9-acdf-4943-a11c-c8554e960f11",
   "metadata": {},
   "source": [
    "### Exo8"
   ]
  },
  {
   "cell_type": "code",
   "execution_count": 59,
   "id": "2dde301c-d5b3-4922-a6a0-4ac8d2c34cce",
   "metadata": {},
   "outputs": [],
   "source": [
    "dictData = {'ID' : [31, 71, 30 , 11 , 23] , \n",
    "            'Nom': ['Julia', 'Tiago', 'Charlie' , 'Alba' , 'Isaac'],  \n",
    "        'Age': [22, 21, 20, 20 , 23], \n",
    "        'Taille': [170, 190, 181 , 175 , 165]}\n",
    "# création du dataframe\n",
    "df = pd.DataFrame(dictData , index=[235 , 155 , 243 , 311 , 117])"
   ]
  },
  {
   "cell_type": "code",
   "execution_count": 61,
   "id": "1573ef93-c49e-4b8b-b975-a1feda4423e2",
   "metadata": {},
   "outputs": [
    {
     "data": {
      "text/html": [
       "<div>\n",
       "<style scoped>\n",
       "    .dataframe tbody tr th:only-of-type {\n",
       "        vertical-align: middle;\n",
       "    }\n",
       "\n",
       "    .dataframe tbody tr th {\n",
       "        vertical-align: top;\n",
       "    }\n",
       "\n",
       "    .dataframe thead th {\n",
       "        text-align: right;\n",
       "    }\n",
       "</style>\n",
       "<table border=\"1\" class=\"dataframe\">\n",
       "  <thead>\n",
       "    <tr style=\"text-align: right;\">\n",
       "      <th></th>\n",
       "      <th>ID</th>\n",
       "      <th>Nom</th>\n",
       "      <th>Age</th>\n",
       "      <th>Taille</th>\n",
       "    </tr>\n",
       "  </thead>\n",
       "  <tbody>\n",
       "    <tr>\n",
       "      <th>235</th>\n",
       "      <td>31</td>\n",
       "      <td>Julia</td>\n",
       "      <td>22</td>\n",
       "      <td>170</td>\n",
       "    </tr>\n",
       "    <tr>\n",
       "      <th>155</th>\n",
       "      <td>71</td>\n",
       "      <td>Tiago</td>\n",
       "      <td>21</td>\n",
       "      <td>190</td>\n",
       "    </tr>\n",
       "    <tr>\n",
       "      <th>243</th>\n",
       "      <td>30</td>\n",
       "      <td>Charlie</td>\n",
       "      <td>20</td>\n",
       "      <td>181</td>\n",
       "    </tr>\n",
       "    <tr>\n",
       "      <th>311</th>\n",
       "      <td>11</td>\n",
       "      <td>Alba</td>\n",
       "      <td>20</td>\n",
       "      <td>175</td>\n",
       "    </tr>\n",
       "    <tr>\n",
       "      <th>117</th>\n",
       "      <td>23</td>\n",
       "      <td>Isaac</td>\n",
       "      <td>23</td>\n",
       "      <td>165</td>\n",
       "    </tr>\n",
       "  </tbody>\n",
       "</table>\n",
       "</div>"
      ],
      "text/plain": [
       "     ID      Nom  Age  Taille\n",
       "235  31    Julia   22     170\n",
       "155  71    Tiago   21     190\n",
       "243  30  Charlie   20     181\n",
       "311  11     Alba   20     175\n",
       "117  23    Isaac   23     165"
      ]
     },
     "execution_count": 61,
     "metadata": {},
     "output_type": "execute_result"
    }
   ],
   "source": [
    "df"
   ]
  },
  {
   "cell_type": "code",
   "execution_count": 63,
   "id": "f3f2e4eb-a3da-49cd-a635-93e56e967577",
   "metadata": {},
   "outputs": [
    {
     "data": {
      "text/html": [
       "<div>\n",
       "<style scoped>\n",
       "    .dataframe tbody tr th:only-of-type {\n",
       "        vertical-align: middle;\n",
       "    }\n",
       "\n",
       "    .dataframe tbody tr th {\n",
       "        vertical-align: top;\n",
       "    }\n",
       "\n",
       "    .dataframe thead th {\n",
       "        text-align: right;\n",
       "    }\n",
       "</style>\n",
       "<table border=\"1\" class=\"dataframe\">\n",
       "  <thead>\n",
       "    <tr style=\"text-align: right;\">\n",
       "      <th></th>\n",
       "      <th>Nom</th>\n",
       "      <th>Age</th>\n",
       "    </tr>\n",
       "  </thead>\n",
       "  <tbody>\n",
       "    <tr>\n",
       "      <th>235</th>\n",
       "      <td>Julia</td>\n",
       "      <td>22</td>\n",
       "    </tr>\n",
       "    <tr>\n",
       "      <th>155</th>\n",
       "      <td>Tiago</td>\n",
       "      <td>21</td>\n",
       "    </tr>\n",
       "    <tr>\n",
       "      <th>243</th>\n",
       "      <td>Charlie</td>\n",
       "      <td>20</td>\n",
       "    </tr>\n",
       "    <tr>\n",
       "      <th>311</th>\n",
       "      <td>Alba</td>\n",
       "      <td>20</td>\n",
       "    </tr>\n",
       "    <tr>\n",
       "      <th>117</th>\n",
       "      <td>Isaac</td>\n",
       "      <td>23</td>\n",
       "    </tr>\n",
       "  </tbody>\n",
       "</table>\n",
       "</div>"
      ],
      "text/plain": [
       "         Nom  Age\n",
       "235    Julia   22\n",
       "155    Tiago   21\n",
       "243  Charlie   20\n",
       "311     Alba   20\n",
       "117    Isaac   23"
      ]
     },
     "execution_count": 63,
     "metadata": {},
     "output_type": "execute_result"
    }
   ],
   "source": [
    "df[['Nom', 'Age']]"
   ]
  },
  {
   "cell_type": "markdown",
   "id": "99901bbf-eaea-4b95-9ced-832706d3d9c2",
   "metadata": {},
   "source": [
    "### Exo9"
   ]
  },
  {
   "cell_type": "code",
   "execution_count": 68,
   "id": "eb677491-5f5b-432e-8341-e30bb160e9b4",
   "metadata": {},
   "outputs": [
    {
     "data": {
      "text/html": [
       "<div>\n",
       "<style scoped>\n",
       "    .dataframe tbody tr th:only-of-type {\n",
       "        vertical-align: middle;\n",
       "    }\n",
       "\n",
       "    .dataframe tbody tr th {\n",
       "        vertical-align: top;\n",
       "    }\n",
       "\n",
       "    .dataframe thead th {\n",
       "        text-align: right;\n",
       "    }\n",
       "</style>\n",
       "<table border=\"1\" class=\"dataframe\">\n",
       "  <thead>\n",
       "    <tr style=\"text-align: right;\">\n",
       "      <th></th>\n",
       "      <th>Nom</th>\n",
       "      <th>Age</th>\n",
       "    </tr>\n",
       "  </thead>\n",
       "  <tbody>\n",
       "    <tr>\n",
       "      <th>117</th>\n",
       "      <td>Isaac</td>\n",
       "      <td>23</td>\n",
       "    </tr>\n",
       "    <tr>\n",
       "      <th>235</th>\n",
       "      <td>Julia</td>\n",
       "      <td>22</td>\n",
       "    </tr>\n",
       "    <tr>\n",
       "      <th>155</th>\n",
       "      <td>Tiago</td>\n",
       "      <td>21</td>\n",
       "    </tr>\n",
       "    <tr>\n",
       "      <th>243</th>\n",
       "      <td>Charlie</td>\n",
       "      <td>20</td>\n",
       "    </tr>\n",
       "    <tr>\n",
       "      <th>311</th>\n",
       "      <td>Alba</td>\n",
       "      <td>20</td>\n",
       "    </tr>\n",
       "  </tbody>\n",
       "</table>\n",
       "</div>"
      ],
      "text/plain": [
       "         Nom  Age\n",
       "117    Isaac   23\n",
       "235    Julia   22\n",
       "155    Tiago   21\n",
       "243  Charlie   20\n",
       "311     Alba   20"
      ]
     },
     "execution_count": 68,
     "metadata": {},
     "output_type": "execute_result"
    }
   ],
   "source": [
    "df[['Nom', 'Age']].sort_values('Age', ascending=False)"
   ]
  },
  {
   "cell_type": "markdown",
   "id": "b036570c-9a93-492b-a0d4-b712aa36eebe",
   "metadata": {},
   "source": [
    "### Exo10"
   ]
  },
  {
   "cell_type": "code",
   "execution_count": 71,
   "id": "6d16348c-661c-4100-9dbd-d87d555033aa",
   "metadata": {},
   "outputs": [],
   "source": [
    "import numpy as np\n",
    "\n",
    "data = np.array (['P', 'y', 't', 'h', 'o' , 'n'])\n",
    "s = pd.Series(data , index=[12 , 7 , 13 , 22 , 11 , 2])"
   ]
  },
  {
   "cell_type": "code",
   "execution_count": 73,
   "id": "f07dbeb1-c8ae-4504-ad0e-50153d79c471",
   "metadata": {},
   "outputs": [
    {
     "data": {
      "text/plain": [
       "Index([12, 7, 13, 22, 11, 2], dtype='int64')"
      ]
     },
     "execution_count": 73,
     "metadata": {},
     "output_type": "execute_result"
    }
   ],
   "source": [
    "s.index"
   ]
  },
  {
   "cell_type": "markdown",
   "id": "dcb2af9c-f32a-467c-9dd8-b5564f215a1f",
   "metadata": {},
   "source": [
    "### Exo11"
   ]
  },
  {
   "cell_type": "code",
   "execution_count": 78,
   "id": "86203b40-ce67-4ad1-831c-d023d8c044d4",
   "metadata": {},
   "outputs": [],
   "source": [
    "data = np.array ([43 , -25 , 79  ,  37 , -22  , 34 ])\n",
    "s = pd.Series(data)"
   ]
  },
  {
   "cell_type": "code",
   "execution_count": 80,
   "id": "c9ac0b57-87e5-4cd6-951b-dc1ec0a734de",
   "metadata": {},
   "outputs": [],
   "source": [
    "s[s < 0] = 0"
   ]
  },
  {
   "cell_type": "code",
   "execution_count": 82,
   "id": "0ef3c193-35aa-4d24-a1fa-721aa590e947",
   "metadata": {},
   "outputs": [
    {
     "data": {
      "text/plain": [
       "0    43\n",
       "1     0\n",
       "2    79\n",
       "3    37\n",
       "4     0\n",
       "5    34\n",
       "dtype: int64"
      ]
     },
     "execution_count": 82,
     "metadata": {},
     "output_type": "execute_result"
    }
   ],
   "source": [
    "s"
   ]
  },
  {
   "cell_type": "markdown",
   "id": "eec285ef-25a7-4182-97d6-5802a66d7fc8",
   "metadata": {},
   "source": [
    "### Exo12"
   ]
  },
  {
   "cell_type": "code",
   "execution_count": 85,
   "id": "872c5574-9f52-4312-a9bd-609843b224fe",
   "metadata": {},
   "outputs": [],
   "source": [
    "data = np.array([430 , -255 , 179  ,  237 , -202  , 304 ] )\n",
    "s = pd.Series(data , index= [11 , 21 , 17 , 13  , 27  , 14])"
   ]
  },
  {
   "cell_type": "code",
   "execution_count": 87,
   "id": "6c21ac3f-4fb2-4df4-94ad-b0fa8f42bf83",
   "metadata": {},
   "outputs": [
    {
     "data": {
      "text/plain": [
       "11    430\n",
       "21   -255\n",
       "17    179\n",
       "13    237\n",
       "27   -202\n",
       "14    304\n",
       "dtype: int64"
      ]
     },
     "execution_count": 87,
     "metadata": {},
     "output_type": "execute_result"
    }
   ],
   "source": [
    "s"
   ]
  },
  {
   "cell_type": "code",
   "execution_count": 89,
   "id": "01997296-105c-4576-9024-5e0fe775f204",
   "metadata": {},
   "outputs": [],
   "source": [
    "s[s < 0] = 0"
   ]
  },
  {
   "cell_type": "code",
   "execution_count": 91,
   "id": "f73534db-ffb5-4741-bbe7-beb488b6eab0",
   "metadata": {},
   "outputs": [
    {
     "data": {
      "text/plain": [
       "11    430\n",
       "21      0\n",
       "17    179\n",
       "13    237\n",
       "27      0\n",
       "14    304\n",
       "dtype: int64"
      ]
     },
     "execution_count": 91,
     "metadata": {},
     "output_type": "execute_result"
    }
   ],
   "source": [
    "s"
   ]
  },
  {
   "cell_type": "markdown",
   "id": "ed90959e-0bbb-4df4-abed-e9420ed02b0b",
   "metadata": {},
   "source": [
    "### Exo13"
   ]
  },
  {
   "cell_type": "code",
   "execution_count": 96,
   "id": "701aa353-f430-4dfb-aa07-01ffe2770ea9",
   "metadata": {},
   "outputs": [],
   "source": [
    "s = pd.Series([\"Louis\" , \"Maya\" , \"Yassmine\"  ,  \"Rosa\" , \"Tomas\"] , \n",
    "              index= [17 , 21 , 19 , 13  , 27 ])"
   ]
  },
  {
   "cell_type": "code",
   "execution_count": 98,
   "id": "2ee02691-0fe5-49fb-854d-9a4174e7cea3",
   "metadata": {},
   "outputs": [
    {
     "data": {
      "text/plain": [
       "{17: 'Louis', 21: 'Maya', 19: 'Yassmine', 13: 'Rosa', 27: 'Tomas'}"
      ]
     },
     "execution_count": 98,
     "metadata": {},
     "output_type": "execute_result"
    }
   ],
   "source": [
    "s.to_dict()"
   ]
  },
  {
   "cell_type": "markdown",
   "id": "ee45debc-1022-437f-8b31-7675baa346bc",
   "metadata": {},
   "source": [
    "### Exo14"
   ]
  },
  {
   "cell_type": "code",
   "execution_count": 103,
   "id": "4a0c3a79-fd5c-422b-ad8f-8022d91ae426",
   "metadata": {},
   "outputs": [],
   "source": [
    "s = pd.Series([\"Emma\" , \"Alice\" , \"Paul\"  ,  \"Tiago\" , \"Julia\"] , \n",
    "              index= [17 , 21 , 19 , 13  , 27 ])"
   ]
  },
  {
   "cell_type": "code",
   "execution_count": 105,
   "id": "97a28d44-3bd0-4b1b-9d89-1e9c1e614ba5",
   "metadata": {},
   "outputs": [
    {
     "ename": "AttributeError",
     "evalue": "'Series' object has no attribute 'append'",
     "output_type": "error",
     "traceback": [
      "\u001b[0;31m---------------------------------------------------------------------------\u001b[0m",
      "\u001b[0;31mAttributeError\u001b[0m                            Traceback (most recent call last)",
      "\u001b[0;32m/tmp/ipykernel_272930/2245992053.py\u001b[0m in \u001b[0;36m?\u001b[0;34m()\u001b[0m\n\u001b[0;32m----> 1\u001b[0;31m \u001b[0ms\u001b[0m\u001b[0;34m.\u001b[0m\u001b[0mappend\u001b[0m\u001b[0;34m(\u001b[0m\u001b[0mpd\u001b[0m\u001b[0;34m.\u001b[0m\u001b[0mSeries\u001b[0m\u001b[0;34m(\u001b[0m\u001b[0;34m[\u001b[0m\u001b[0;34m\"Clara\"\u001b[0m\u001b[0;34m]\u001b[0m\u001b[0;34m,\u001b[0m \u001b[0mindex\u001b[0m\u001b[0;34m=\u001b[0m\u001b[0;34m[\u001b[0m\u001b[0;36m11\u001b[0m\u001b[0;34m]\u001b[0m\u001b[0;34m)\u001b[0m\u001b[0;34m)\u001b[0m\u001b[0;34m\u001b[0m\u001b[0;34m\u001b[0m\u001b[0m\n\u001b[0m",
      "\u001b[0;32m~/anaconda3/lib/python3.11/site-packages/pandas/core/generic.py\u001b[0m in \u001b[0;36m?\u001b[0;34m(self, name)\u001b[0m\n\u001b[1;32m   6200\u001b[0m             \u001b[0;32mand\u001b[0m \u001b[0mname\u001b[0m \u001b[0;32mnot\u001b[0m \u001b[0;32min\u001b[0m \u001b[0mself\u001b[0m\u001b[0;34m.\u001b[0m\u001b[0m_accessors\u001b[0m\u001b[0;34m\u001b[0m\u001b[0;34m\u001b[0m\u001b[0m\n\u001b[1;32m   6201\u001b[0m             \u001b[0;32mand\u001b[0m \u001b[0mself\u001b[0m\u001b[0;34m.\u001b[0m\u001b[0m_info_axis\u001b[0m\u001b[0;34m.\u001b[0m\u001b[0m_can_hold_identifiers_and_holds_name\u001b[0m\u001b[0;34m(\u001b[0m\u001b[0mname\u001b[0m\u001b[0;34m)\u001b[0m\u001b[0;34m\u001b[0m\u001b[0;34m\u001b[0m\u001b[0m\n\u001b[1;32m   6202\u001b[0m         ):\n\u001b[1;32m   6203\u001b[0m             \u001b[0;32mreturn\u001b[0m \u001b[0mself\u001b[0m\u001b[0;34m[\u001b[0m\u001b[0mname\u001b[0m\u001b[0;34m]\u001b[0m\u001b[0;34m\u001b[0m\u001b[0;34m\u001b[0m\u001b[0m\n\u001b[0;32m-> 6204\u001b[0;31m         \u001b[0;32mreturn\u001b[0m \u001b[0mobject\u001b[0m\u001b[0;34m.\u001b[0m\u001b[0m__getattribute__\u001b[0m\u001b[0;34m(\u001b[0m\u001b[0mself\u001b[0m\u001b[0;34m,\u001b[0m \u001b[0mname\u001b[0m\u001b[0;34m)\u001b[0m\u001b[0;34m\u001b[0m\u001b[0;34m\u001b[0m\u001b[0m\n\u001b[0m",
      "\u001b[0;31mAttributeError\u001b[0m: 'Series' object has no attribute 'append'"
     ]
    }
   ],
   "source": [
    "s.append(pd.Series([\"Clara\"], index=[11]))"
   ]
  },
  {
   "cell_type": "markdown",
   "id": "fb236b10-e6c5-43bf-b2c5-39ce90652e06",
   "metadata": {},
   "source": [
    "### Exo15"
   ]
  },
  {
   "cell_type": "code",
   "execution_count": 110,
   "id": "bf724efa-6cbf-4dc1-bdfa-3eeb7a645cee",
   "metadata": {},
   "outputs": [],
   "source": [
    "s = pd.Series([\"Maria\" , \"Amelia\" , \"Bernard\"  ,  \"Jules\" , \"Nathan\" , \"Enzo\"] , \n",
    "              index= [17 , 26 , 19 , 12  , 27 , 48 ])"
   ]
  },
  {
   "cell_type": "code",
   "execution_count": 114,
   "id": "74308e53-40cc-4c19-811e-ad6891945bbd",
   "metadata": {},
   "outputs": [
    {
     "data": {
      "text/plain": [
       "[17, 19, 27]"
      ]
     },
     "execution_count": 114,
     "metadata": {},
     "output_type": "execute_result"
    }
   ],
   "source": [
    "[n for n in s.index if n%2]"
   ]
  },
  {
   "cell_type": "code",
   "execution_count": 116,
   "id": "9ddc13d4-dc60-4684-b6d7-05da8f9f7057",
   "metadata": {},
   "outputs": [
    {
     "data": {
      "text/plain": [
       "17      Maria\n",
       "19    Bernard\n",
       "27     Nathan\n",
       "dtype: object"
      ]
     },
     "execution_count": 116,
     "metadata": {},
     "output_type": "execute_result"
    }
   ],
   "source": [
    "s.loc[[n for n in s.index if n%2]]"
   ]
  },
  {
   "cell_type": "markdown",
   "id": "42a840a6-5df4-4d92-b49a-64b023120b38",
   "metadata": {},
   "source": [
    "### Exo17"
   ]
  },
  {
   "cell_type": "code",
   "execution_count": 119,
   "id": "9fcd8d42-49cb-4695-a166-ec125257e115",
   "metadata": {},
   "outputs": [],
   "source": [
    "serie = pd.Series(['a', 'b', 'c', 'd', 'e' , 'f'] , index=[10 , 11 , 23 , 17 , 14 , 15])"
   ]
  },
  {
   "cell_type": "code",
   "execution_count": 121,
   "id": "d8173ab5-08e0-4826-96f9-a4709d5558a4",
   "metadata": {},
   "outputs": [
    {
     "data": {
      "text/plain": [
       "'c'"
      ]
     },
     "execution_count": 121,
     "metadata": {},
     "output_type": "execute_result"
    }
   ],
   "source": [
    "serie.loc[max(serie.index)]"
   ]
  },
  {
   "cell_type": "markdown",
   "id": "8c6d1414-a363-4d07-bba6-98b4716d226d",
   "metadata": {},
   "source": [
    "### Exo19"
   ]
  },
  {
   "cell_type": "code",
   "execution_count": 125,
   "id": "dfb5ddea-561f-4421-9f93-f12b5c92a6ac",
   "metadata": {},
   "outputs": [],
   "source": [
    "serie1 = pd.Series(['a', 'b', 'c', 'd', 'e' , 'f'] , index=[10 , 12 , 14 , 16 , 18 , 20])\n",
    "serie2 = pd.Series(['x', 'y', 'z', 't', 'u' , 'v'] , index=[11 , 13 , 15 , 17 , 19 , 21])"
   ]
  },
  {
   "cell_type": "code",
   "execution_count": null,
   "id": "613ff24d-6120-44a0-ad93-8a28d401ff4e",
   "metadata": {},
   "outputs": [],
   "source": []
  }
 ],
 "metadata": {
  "kernelspec": {
   "display_name": "Python 3 (ipykernel)",
   "language": "python",
   "name": "python3"
  },
  "language_info": {
   "codemirror_mode": {
    "name": "ipython",
    "version": 3
   },
   "file_extension": ".py",
   "mimetype": "text/x-python",
   "name": "python",
   "nbconvert_exporter": "python",
   "pygments_lexer": "ipython3",
   "version": "3.11.7"
  }
 },
 "nbformat": 4,
 "nbformat_minor": 5
}
