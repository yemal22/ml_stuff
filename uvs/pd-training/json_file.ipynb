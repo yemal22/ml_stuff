{
 "cells": [
  {
   "cell_type": "code",
   "execution_count": 1,
   "id": "ff37cad8-b138-4326-85d4-a31a287582ef",
   "metadata": {},
   "outputs": [],
   "source": [
    "import pandas as pd"
   ]
  },
  {
   "cell_type": "code",
   "execution_count": 3,
   "id": "b62399e2-f2c2-4cf3-8f44-294e52eecc4f",
   "metadata": {},
   "outputs": [
    {
     "data": {
      "text/plain": [
       "{'product': {'0': 'computer', '1': 'tablet', '2': 'printer', '3': 'keyboard'},\n",
       " 'price': {'0': 800, '1': 350, '2': 200, '3': 120}}"
      ]
     },
     "execution_count": 3,
     "metadata": {},
     "output_type": "execute_result"
    }
   ],
   "source": [
    "data = {\n",
    "    \"product\":{\n",
    "        \"0\":\"computer\",\n",
    "        \"1\":\"tablet\",\n",
    "        \"2\":\"printer\",\n",
    "        \"3\":\"keyboard\"\n",
    "    },\n",
    "    \"price\":{\n",
    "        \"0\":800,\n",
    "        \"1\":350,\n",
    "        \"2\":200,\n",
    "        \"3\":120\n",
    "    }\n",
    "}\n",
    "\n",
    "data"
   ]
  },
  {
   "cell_type": "code",
   "execution_count": 5,
   "id": "a27a61ef-bbb0-4fb6-9fe2-6971b58302ec",
   "metadata": {},
   "outputs": [
    {
     "data": {
      "text/html": [
       "<div>\n",
       "<style scoped>\n",
       "    .dataframe tbody tr th:only-of-type {\n",
       "        vertical-align: middle;\n",
       "    }\n",
       "\n",
       "    .dataframe tbody tr th {\n",
       "        vertical-align: top;\n",
       "    }\n",
       "\n",
       "    .dataframe thead th {\n",
       "        text-align: right;\n",
       "    }\n",
       "</style>\n",
       "<table border=\"1\" class=\"dataframe\">\n",
       "  <thead>\n",
       "    <tr style=\"text-align: right;\">\n",
       "      <th></th>\n",
       "      <th>product</th>\n",
       "      <th>price</th>\n",
       "    </tr>\n",
       "  </thead>\n",
       "  <tbody>\n",
       "    <tr>\n",
       "      <th>0</th>\n",
       "      <td>computer</td>\n",
       "      <td>800</td>\n",
       "    </tr>\n",
       "    <tr>\n",
       "      <th>1</th>\n",
       "      <td>tablet</td>\n",
       "      <td>350</td>\n",
       "    </tr>\n",
       "    <tr>\n",
       "      <th>2</th>\n",
       "      <td>printer</td>\n",
       "      <td>200</td>\n",
       "    </tr>\n",
       "    <tr>\n",
       "      <th>3</th>\n",
       "      <td>keyboard</td>\n",
       "      <td>120</td>\n",
       "    </tr>\n",
       "  </tbody>\n",
       "</table>\n",
       "</div>"
      ],
      "text/plain": [
       "    product  price\n",
       "0  computer    800\n",
       "1    tablet    350\n",
       "2   printer    200\n",
       "3  keyboard    120"
      ]
     },
     "execution_count": 5,
     "metadata": {},
     "output_type": "execute_result"
    }
   ],
   "source": [
    "pd.DataFrame(data)"
   ]
  },
  {
   "cell_type": "code",
   "execution_count": 7,
   "id": "64291e89-1532-4a17-aef2-6393124280e1",
   "metadata": {},
   "outputs": [
    {
     "data": {
      "text/plain": [
       "{'product': ['computer', 'tablet', 'printer', 'keyboard'],\n",
       " 'price': [800, 350, 200, 120]}"
      ]
     },
     "execution_count": 7,
     "metadata": {},
     "output_type": "execute_result"
    }
   ],
   "source": [
    "data2 = {\n",
    "    \"product\":[\n",
    "        \"computer\",\n",
    "        \"tablet\",\n",
    "        \"printer\",\n",
    "        \"keyboard\"\n",
    "    ],\n",
    "    \"price\":[\n",
    "        800,\n",
    "        350,\n",
    "        200,\n",
    "        120\n",
    "    ]\n",
    "}\n",
    "\n",
    "data2"
   ]
  },
  {
   "cell_type": "code",
   "execution_count": 11,
   "id": "826bfdb6-1558-43cc-b0a4-15428aeed075",
   "metadata": {},
   "outputs": [],
   "source": [
    "df = pd.DataFrame(data2)"
   ]
  },
  {
   "cell_type": "code",
   "execution_count": 13,
   "id": "4756235e-580b-4586-8af2-4042740df172",
   "metadata": {},
   "outputs": [
    {
     "data": {
      "text/plain": [
       "{'product': {0: 'computer', 1: 'tablet', 2: 'printer', 3: 'keyboard'},\n",
       " 'price': {0: 800, 1: 350, 2: 200, 3: 120}}"
      ]
     },
     "execution_count": 13,
     "metadata": {},
     "output_type": "execute_result"
    }
   ],
   "source": [
    "df.to_dict()"
   ]
  },
  {
   "cell_type": "code",
   "execution_count": 17,
   "id": "1edc2c6f-aa91-4a90-9187-413ff411c0f9",
   "metadata": {},
   "outputs": [
    {
     "data": {
      "text/plain": [
       "array([['computer', 800],\n",
       "       ['tablet', 350],\n",
       "       ['printer', 200],\n",
       "       ['keyboard', 120]], dtype=object)"
      ]
     },
     "execution_count": 17,
     "metadata": {},
     "output_type": "execute_result"
    }
   ],
   "source": [
    "df.values"
   ]
  },
  {
   "cell_type": "code",
   "execution_count": null,
   "id": "46363419-3247-46da-9a02-b3d24ca1a6fb",
   "metadata": {},
   "outputs": [],
   "source": []
  }
 ],
 "metadata": {
  "kernelspec": {
   "display_name": "Python 3 (ipykernel)",
   "language": "python",
   "name": "python3"
  },
  "language_info": {
   "codemirror_mode": {
    "name": "ipython",
    "version": 3
   },
   "file_extension": ".py",
   "mimetype": "text/x-python",
   "name": "python",
   "nbconvert_exporter": "python",
   "pygments_lexer": "ipython3",
   "version": "3.11.7"
  }
 },
 "nbformat": 4,
 "nbformat_minor": 5
}
