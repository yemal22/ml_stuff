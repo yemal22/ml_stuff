{
 "cells": [
  {
   "cell_type": "code",
   "execution_count": 1,
   "id": "2ee81447-5bc9-4d75-8810-49b14244e226",
   "metadata": {},
   "outputs": [],
   "source": [
    "import pandas as pd"
   ]
  },
  {
   "cell_type": "code",
   "execution_count": 3,
   "id": "481f2fd9-7037-4b0a-9b80-3a3785000c13",
   "metadata": {},
   "outputs": [],
   "source": [
    "animaux1 = [\"chien\", \"chat\", \"poule\", \"lion\", \"lapin\"]\n",
    "proprio1 = [\"eve\", \"bob\", \"liz\", \"john\", \"claude\"]"
   ]
  },
  {
   "cell_type": "code",
   "execution_count": 5,
   "id": "04b2c852-5324-474e-8369-8b93f388b5e7",
   "metadata": {},
   "outputs": [],
   "source": [
    "data1 = pd.Series(animaux1, index=proprio1)"
   ]
  },
  {
   "cell_type": "code",
   "execution_count": 7,
   "id": "9ee90890-6f46-4b9f-a030-22120d1a244c",
   "metadata": {},
   "outputs": [
    {
     "data": {
      "text/plain": [
       "eve       chien\n",
       "bob        chat\n",
       "liz       poule\n",
       "john       lion\n",
       "claude    lapin\n",
       "dtype: object"
      ]
     },
     "execution_count": 7,
     "metadata": {},
     "output_type": "execute_result"
    }
   ],
   "source": [
    "data1"
   ]
  },
  {
   "cell_type": "code",
   "execution_count": 11,
   "id": "4b11278e-134e-4c8c-bc14-4632fd642960",
   "metadata": {},
   "outputs": [
    {
     "data": {
      "text/plain": [
       "eve     chien\n",
       "bob      chat\n",
       "liz     poule\n",
       "john     lion\n",
       "dtype: object"
      ]
     },
     "execution_count": 11,
     "metadata": {},
     "output_type": "execute_result"
    }
   ],
   "source": [
    "data1.loc[\"eve\":\"john\"]"
   ]
  },
  {
   "cell_type": "code",
   "execution_count": 21,
   "id": "130db2d8-3d33-45aa-af04-7a43700c3d08",
   "metadata": {},
   "outputs": [],
   "source": [
    "animaux2 = [\"chien\", \"lapin\", \"poule\", \"lion\", \"lapin\"]\n",
    "proprio2 = [\"eve\", \"john\", \"liz\", \"john\", \"claude\"]"
   ]
  },
  {
   "cell_type": "code",
   "execution_count": 23,
   "id": "19b0d776-8a95-4314-bf06-f65ee9f563f8",
   "metadata": {},
   "outputs": [],
   "source": [
    "data2 = pd.Series(animaux2, index=proprio2)"
   ]
  },
  {
   "cell_type": "code",
   "execution_count": 27,
   "id": "f44a2d96-ee98-41a5-b0e0-18dcfb735381",
   "metadata": {},
   "outputs": [
    {
     "data": {
      "text/plain": [
       "eve     chien\n",
       "john    lapin\n",
       "john     lion\n",
       "dtype: object"
      ]
     },
     "execution_count": 27,
     "metadata": {},
     "output_type": "execute_result"
    }
   ],
   "source": [
    "data2 = data2.sort_index()\n",
    "data2.loc[\"eve\":\"john\"]"
   ]
  },
  {
   "cell_type": "code",
   "execution_count": 29,
   "id": "82a547f4-1ed7-42d7-bc3c-5c9a43794e2b",
   "metadata": {},
   "outputs": [
    {
     "data": {
      "text/plain": [
       "claude    lapin\n",
       "eve       chien\n",
       "john      lapin\n",
       "john       lion\n",
       "liz       poule\n",
       "dtype: object"
      ]
     },
     "execution_count": 29,
     "metadata": {},
     "output_type": "execute_result"
    }
   ],
   "source": [
    "data2"
   ]
  },
  {
   "cell_type": "code",
   "execution_count": null,
   "id": "73ef3772-3f1d-4a66-b914-fc156c8ca720",
   "metadata": {},
   "outputs": [],
   "source": []
  }
 ],
 "metadata": {
  "kernelspec": {
   "display_name": "Python 3 (ipykernel)",
   "language": "python",
   "name": "python3"
  },
  "language_info": {
   "codemirror_mode": {
    "name": "ipython",
    "version": 3
   },
   "file_extension": ".py",
   "mimetype": "text/x-python",
   "name": "python",
   "nbconvert_exporter": "python",
   "pygments_lexer": "ipython3",
   "version": "3.11.7"
  }
 },
 "nbformat": 4,
 "nbformat_minor": 5
}
