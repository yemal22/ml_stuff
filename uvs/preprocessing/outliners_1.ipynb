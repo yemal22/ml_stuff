{
 "cells": [
  {
   "cell_type": "code",
   "execution_count": 20,
   "id": "2c600c5a-388f-41ff-92aa-438ec5c6b0f3",
   "metadata": {},
   "outputs": [],
   "source": [
    "import numpy as np\n",
    "import pandas as pd\n",
    "import seaborn as sns\n",
    "import matplotlib.pyplot as plt"
   ]
  },
  {
   "cell_type": "code",
   "execution_count": 4,
   "id": "ba21608b-ab84-4ac4-9118-40aa3322e07e",
   "metadata": {},
   "outputs": [
    {
     "data": {
      "text/html": [
       "<div>\n",
       "<style scoped>\n",
       "    .dataframe tbody tr th:only-of-type {\n",
       "        vertical-align: middle;\n",
       "    }\n",
       "\n",
       "    .dataframe tbody tr th {\n",
       "        vertical-align: top;\n",
       "    }\n",
       "\n",
       "    .dataframe thead th {\n",
       "        text-align: right;\n",
       "    }\n",
       "</style>\n",
       "<table border=\"1\" class=\"dataframe\">\n",
       "  <thead>\n",
       "    <tr style=\"text-align: right;\">\n",
       "      <th></th>\n",
       "      <th>Airline</th>\n",
       "      <th>Date_of_Journey</th>\n",
       "      <th>Source</th>\n",
       "      <th>Destination</th>\n",
       "      <th>Route</th>\n",
       "      <th>Dep_Time</th>\n",
       "      <th>Arrival_Time</th>\n",
       "      <th>Duration</th>\n",
       "      <th>Total_Stops</th>\n",
       "      <th>Additional_Info</th>\n",
       "      <th>Price</th>\n",
       "      <th>year</th>\n",
       "      <th>month</th>\n",
       "      <th>Day</th>\n",
       "      <th>flight_time</th>\n",
       "      <th>Duration(sec)</th>\n",
       "    </tr>\n",
       "  </thead>\n",
       "  <tbody>\n",
       "    <tr>\n",
       "      <th>0</th>\n",
       "      <td>Air India</td>\n",
       "      <td>01/03/2019</td>\n",
       "      <td>Banglore</td>\n",
       "      <td>New Delhi</td>\n",
       "      <td>BLR → BOM → AMD → DEL</td>\n",
       "      <td>08:50</td>\n",
       "      <td>23:55 02 Mar</td>\n",
       "      <td>39h 5m</td>\n",
       "      <td>2</td>\n",
       "      <td>No info</td>\n",
       "      <td>17135</td>\n",
       "      <td>2019</td>\n",
       "      <td>1</td>\n",
       "      <td>3</td>\n",
       "      <td>morning</td>\n",
       "      <td>140700</td>\n",
       "    </tr>\n",
       "    <tr>\n",
       "      <th>1</th>\n",
       "      <td>Air India</td>\n",
       "      <td>01/03/2019</td>\n",
       "      <td>Banglore</td>\n",
       "      <td>New Delhi</td>\n",
       "      <td>BLR → MAA → DEL</td>\n",
       "      <td>11:50</td>\n",
       "      <td>08:55 02 Mar</td>\n",
       "      <td>21h 5m</td>\n",
       "      <td>1</td>\n",
       "      <td>1 Long layover</td>\n",
       "      <td>14594</td>\n",
       "      <td>2019</td>\n",
       "      <td>1</td>\n",
       "      <td>3</td>\n",
       "      <td>morning</td>\n",
       "      <td>75900</td>\n",
       "    </tr>\n",
       "    <tr>\n",
       "      <th>2</th>\n",
       "      <td>Jet Airways</td>\n",
       "      <td>01/03/2019</td>\n",
       "      <td>Banglore</td>\n",
       "      <td>New Delhi</td>\n",
       "      <td>BLR → BOM → DEL</td>\n",
       "      <td>14:05</td>\n",
       "      <td>07:40 02 Mar</td>\n",
       "      <td>17h 35m</td>\n",
       "      <td>1</td>\n",
       "      <td>1 Long layover</td>\n",
       "      <td>22270</td>\n",
       "      <td>2019</td>\n",
       "      <td>1</td>\n",
       "      <td>3</td>\n",
       "      <td>afternoon</td>\n",
       "      <td>63300</td>\n",
       "    </tr>\n",
       "    <tr>\n",
       "      <th>3</th>\n",
       "      <td>Jet Airways</td>\n",
       "      <td>01/03/2019</td>\n",
       "      <td>Banglore</td>\n",
       "      <td>New Delhi</td>\n",
       "      <td>BLR → BOM → DEL</td>\n",
       "      <td>07:00</td>\n",
       "      <td>05:05 02 Mar</td>\n",
       "      <td>22h 5m</td>\n",
       "      <td>1</td>\n",
       "      <td>No info</td>\n",
       "      <td>26890</td>\n",
       "      <td>2019</td>\n",
       "      <td>1</td>\n",
       "      <td>3</td>\n",
       "      <td>morning</td>\n",
       "      <td>79500</td>\n",
       "    </tr>\n",
       "    <tr>\n",
       "      <th>4</th>\n",
       "      <td>IndiGo</td>\n",
       "      <td>01/03/2019</td>\n",
       "      <td>Banglore</td>\n",
       "      <td>New Delhi</td>\n",
       "      <td>BLR → DEL</td>\n",
       "      <td>18:25</td>\n",
       "      <td>21:20</td>\n",
       "      <td>2h 55m</td>\n",
       "      <td>0</td>\n",
       "      <td>No info</td>\n",
       "      <td>12649</td>\n",
       "      <td>2019</td>\n",
       "      <td>1</td>\n",
       "      <td>3</td>\n",
       "      <td>evening</td>\n",
       "      <td>10500</td>\n",
       "    </tr>\n",
       "  </tbody>\n",
       "</table>\n",
       "</div>"
      ],
      "text/plain": [
       "       Airline Date_of_Journey    Source Destination                  Route  \\\n",
       "0    Air India      01/03/2019  Banglore   New Delhi  BLR → BOM → AMD → DEL   \n",
       "1    Air India      01/03/2019  Banglore   New Delhi        BLR → MAA → DEL   \n",
       "2  Jet Airways      01/03/2019  Banglore   New Delhi        BLR → BOM → DEL   \n",
       "3  Jet Airways      01/03/2019  Banglore   New Delhi        BLR → BOM → DEL   \n",
       "4       IndiGo      01/03/2019  Banglore   New Delhi              BLR → DEL   \n",
       "\n",
       "  Dep_Time  Arrival_Time Duration  Total_Stops Additional_Info  Price  year  \\\n",
       "0    08:50  23:55 02 Mar   39h 5m            2         No info  17135  2019   \n",
       "1    11:50  08:55 02 Mar   21h 5m            1  1 Long layover  14594  2019   \n",
       "2    14:05  07:40 02 Mar  17h 35m            1  1 Long layover  22270  2019   \n",
       "3    07:00  05:05 02 Mar   22h 5m            1         No info  26890  2019   \n",
       "4    18:25         21:20   2h 55m            0         No info  12649  2019   \n",
       "\n",
       "   month  Day flight_time  Duration(sec)  \n",
       "0      1    3     morning         140700  \n",
       "1      1    3     morning          75900  \n",
       "2      1    3   afternoon          63300  \n",
       "3      1    3     morning          79500  \n",
       "4      1    3     evening          10500  "
      ]
     },
     "execution_count": 4,
     "metadata": {},
     "output_type": "execute_result"
    }
   ],
   "source": [
    "data = pd.read_csv('../../files/data.csv')\n",
    "data.head()"
   ]
  },
  {
   "cell_type": "code",
   "execution_count": 6,
   "id": "0a20c867-9541-4e1f-91ad-6a97773b0de0",
   "metadata": {},
   "outputs": [
    {
     "data": {
      "text/plain": [
       "(10462, 16)"
      ]
     },
     "execution_count": 6,
     "metadata": {},
     "output_type": "execute_result"
    }
   ],
   "source": [
    "data.shape"
   ]
  },
  {
   "cell_type": "code",
   "execution_count": 8,
   "id": "0878ef29-dbab-4e42-903b-b25238b65bf6",
   "metadata": {},
   "outputs": [
    {
     "data": {
      "text/plain": [
       "(10462, 6)"
      ]
     },
     "execution_count": 8,
     "metadata": {},
     "output_type": "execute_result"
    }
   ],
   "source": [
    "draft = data.select_dtypes(include=['int'])\n",
    "draft.shape"
   ]
  },
  {
   "cell_type": "code",
   "execution_count": 10,
   "id": "710c2bd4-2133-4e84-a191-ff6ed58b7047",
   "metadata": {},
   "outputs": [
    {
     "data": {
      "text/html": [
       "<div>\n",
       "<style scoped>\n",
       "    .dataframe tbody tr th:only-of-type {\n",
       "        vertical-align: middle;\n",
       "    }\n",
       "\n",
       "    .dataframe tbody tr th {\n",
       "        vertical-align: top;\n",
       "    }\n",
       "\n",
       "    .dataframe thead th {\n",
       "        text-align: right;\n",
       "    }\n",
       "</style>\n",
       "<table border=\"1\" class=\"dataframe\">\n",
       "  <thead>\n",
       "    <tr style=\"text-align: right;\">\n",
       "      <th></th>\n",
       "      <th>Total_Stops</th>\n",
       "      <th>Price</th>\n",
       "      <th>year</th>\n",
       "      <th>month</th>\n",
       "      <th>Day</th>\n",
       "      <th>Duration(sec)</th>\n",
       "    </tr>\n",
       "  </thead>\n",
       "  <tbody>\n",
       "    <tr>\n",
       "      <th>0</th>\n",
       "      <td>2</td>\n",
       "      <td>17135</td>\n",
       "      <td>2019</td>\n",
       "      <td>1</td>\n",
       "      <td>3</td>\n",
       "      <td>140700</td>\n",
       "    </tr>\n",
       "    <tr>\n",
       "      <th>1</th>\n",
       "      <td>1</td>\n",
       "      <td>14594</td>\n",
       "      <td>2019</td>\n",
       "      <td>1</td>\n",
       "      <td>3</td>\n",
       "      <td>75900</td>\n",
       "    </tr>\n",
       "    <tr>\n",
       "      <th>2</th>\n",
       "      <td>1</td>\n",
       "      <td>22270</td>\n",
       "      <td>2019</td>\n",
       "      <td>1</td>\n",
       "      <td>3</td>\n",
       "      <td>63300</td>\n",
       "    </tr>\n",
       "    <tr>\n",
       "      <th>3</th>\n",
       "      <td>1</td>\n",
       "      <td>26890</td>\n",
       "      <td>2019</td>\n",
       "      <td>1</td>\n",
       "      <td>3</td>\n",
       "      <td>79500</td>\n",
       "    </tr>\n",
       "    <tr>\n",
       "      <th>4</th>\n",
       "      <td>0</td>\n",
       "      <td>12649</td>\n",
       "      <td>2019</td>\n",
       "      <td>1</td>\n",
       "      <td>3</td>\n",
       "      <td>10500</td>\n",
       "    </tr>\n",
       "  </tbody>\n",
       "</table>\n",
       "</div>"
      ],
      "text/plain": [
       "   Total_Stops  Price  year  month  Day  Duration(sec)\n",
       "0            2  17135  2019      1    3         140700\n",
       "1            1  14594  2019      1    3          75900\n",
       "2            1  22270  2019      1    3          63300\n",
       "3            1  26890  2019      1    3          79500\n",
       "4            0  12649  2019      1    3          10500"
      ]
     },
     "execution_count": 10,
     "metadata": {},
     "output_type": "execute_result"
    }
   ],
   "source": [
    "draft.head()"
   ]
  },
  {
   "cell_type": "code",
   "execution_count": 12,
   "id": "639ca998-95e2-4f5a-baff-8fbfdbaea0f5",
   "metadata": {},
   "outputs": [
    {
     "data": {
      "text/plain": [
       "Total_Stops      0\n",
       "Price            0\n",
       "year             0\n",
       "month            0\n",
       "Day              0\n",
       "Duration(sec)    0\n",
       "dtype: int64"
      ]
     },
     "execution_count": 12,
     "metadata": {},
     "output_type": "execute_result"
    }
   ],
   "source": [
    "draft.isna().sum()"
   ]
  },
  {
   "cell_type": "code",
   "execution_count": 14,
   "id": "f07e7e84-279d-434b-b10d-4d5b611b84ab",
   "metadata": {},
   "outputs": [
    {
     "data": {
      "text/plain": [
       "<Axes: >"
      ]
     },
     "execution_count": 14,
     "metadata": {},
     "output_type": "execute_result"
    },
    {
     "data": {
      "image/png": "[encoded data removed]",
      "text/plain": [
       "<Figure size 640x480 with 1 Axes>"
      ]
     },
     "metadata": {},
     "output_type": "display_data"
    }
   ],
   "source": [
    "draft.boxplot()"
   ]
  },
  {
   "cell_type": "code",
   "execution_count": 44,
   "id": "4345e11b-65ca-419f-95db-d396eb2c18b5",
   "metadata": {},
   "outputs": [
    {
     "data": {
      "image/png": "[encoded data removed]",
      "text/plain": [
       "<Figure size 640x480 with 1 Axes>"
      ]
     },
     "metadata": {},
     "output_type": "display_data"
    }
   ],
   "source": [
    "sns.boxplot(x='Total_Stops', data=draft)\n",
    "plt.show()"
   ]
  },
  {
   "cell_type": "code",
   "execution_count": 50,
   "id": "06e7f8b4-218c-4a1a-bab7-8fb3bb548975",
   "metadata": {},
   "outputs": [
    {
     "data": {
      "image/png": "[encoded data removed]",
      "text/plain": [
       "<Figure size 640x480 with 1 Axes>"
      ]
     },
     "metadata": {},
     "output_type": "display_data"
    }
   ],
   "source": [
    "sns.boxplot(x='Price', data=draft)\n",
    "plt.show()"
   ]
  },
  {
   "cell_type": "code",
   "execution_count": 60,
   "id": "f2f56b42-3dad-442f-9f3f-300902f8128f",
   "metadata": {},
   "outputs": [],
   "source": [
    "def handle_outliners(data, feature):\n",
    "    q1 = data[feature].quantile(0.25)\n",
    "    q3 = data[feature].quantile(0.75)\n",
    "    xb = q1 - 1.5*(q3-q1)\n",
    "    xh = q3 + 1.5*(q3-q1)\n",
    "    outliners = data[(data[feature]<xb) | (data[feature]>xh)]\n",
    "    outliners_values = outliners[feature]\n",
    "    outliners_index = outliners.index\n",
    "    return outliners, outliners_values, outliners_index"
   ]
  },
  {
   "cell_type": "code",
   "execution_count": 62,
   "id": "2dfc42e9-07e9-4a6b-a23e-b34eff6d8fc6",
   "metadata": {},
   "outputs": [
    {
     "data": {
      "text/plain": [
       "(      Total_Stops  Price  year  month  Day  Duration(sec)\n",
       " 3               1  26890  2019      1    3          79500\n",
       " 6               1  57209  2019      1    3          16800\n",
       " 10              1  26890  2019      1    3          53100\n",
       " 15              1  25735  2019      1    3          63000\n",
       " 20              1  26890  2019      1    3          33000\n",
       " ...           ...    ...   ...    ...  ...            ...\n",
       " 8205            2  52285  2019      6    3          30000\n",
       " 8283            1  24318  2019      6    3          30900\n",
       " 9206            2  23583  2019      9    3          27900\n",
       " 9315            2  34608  2019      9    3          37800\n",
       " 9561            1  34273  2019      9    5          45600\n",
       " \n",
       " [94 rows x 6 columns],\n",
       " 3       26890\n",
       " 6       57209\n",
       " 10      26890\n",
       " 15      25735\n",
       " 20      26890\n",
       "         ...  \n",
       " 8205    52285\n",
       " 8283    24318\n",
       " 9206    23583\n",
       " 9315    34608\n",
       " 9561    34273\n",
       " Name: Price, Length: 94, dtype: int64,\n",
       " Index([   3,    6,   10,   15,   20,   22,   25,   26,   27,   28,   31,   32,\n",
       "          33,   35,   36,   38,   40,   41,   47,   48,   50,   52,   55,   56,\n",
       "          57,   58,   64,   65,   66,   71,   74,   75,   76,   78,   80,   81,\n",
       "          82,   83,   85,   91,   92,   94,   95,   97,   98,  102,  104,  105,\n",
       "         107,  110,  115,  116,  117,  118,  119,  120,  121,  123,  127,  128,\n",
       "         136,  137,  139,  140,  141,  143,  146,  150,  438,  448,  463,  464,\n",
       "         475,  481, 1393, 1402, 2358, 2371, 3275, 3298, 5260, 7275, 7276, 7360,\n",
       "        7428, 7452, 8109, 8128, 8145, 8205, 8283, 9206, 9315, 9561],\n",
       "       dtype='int64'))"
      ]
     },
     "execution_count": 62,
     "metadata": {},
     "output_type": "execute_result"
    }
   ],
   "source": [
    "handle_outliners(draft, 'Price')"
   ]
  },
  {
   "cell_type": "code",
   "execution_count": null,
   "id": "796fc0e8-f5ef-4773-93dc-a0a7b397cfd0",
   "metadata": {},
   "outputs": [],
   "source": []
  }
 ],
 "metadata": {
  "kernelspec": {
   "display_name": "Python 3 (ipykernel)",
   "language": "python",
   "name": "python3"
  },
  "language_info": {
   "codemirror_mode": {
    "name": "ipython",
    "version": 3
   },
   "file_extension": ".py",
   "mimetype": "text/x-python",
   "name": "python",
   "nbconvert_exporter": "python",
   "pygments_lexer": "ipython3",
   "version": "3.11.7"
  }
 },
 "nbformat": 4,
 "nbformat_minor": 5
}
