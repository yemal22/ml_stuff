{
 "cells": [
  {
   "cell_type": "code",
   "execution_count": 1,
   "id": "1dbc920f-a97e-4fcf-98c1-33d10a470c3b",
   "metadata": {},
   "outputs": [],
   "source": [
    "import numpy as np\n",
    "import matplotlib.pyplot as plt"
   ]
  },
  {
   "cell_type": "code",
   "execution_count": 9,
   "id": "9a84df2d-76d0-404e-994e-e737a23c7a5c",
   "metadata": {},
   "outputs": [],
   "source": [
    "age = np.array([12, 14, 40, 35, 26, 30, 30, 50, 75, 50, 30, 45, 25, 55, 28, 25, 50, 40, 25, 35])"
   ]
  },
  {
   "cell_type": "code",
   "execution_count": 11,
   "id": "68cf6cea-f1a9-4f58-a86c-5f0fd11e6cee",
   "metadata": {},
   "outputs": [
    {
     "data": {
      "text/plain": [
       "20"
      ]
     },
     "execution_count": 11,
     "metadata": {},
     "output_type": "execute_result"
    }
   ],
   "source": [
    "age.size"
   ]
  },
  {
   "cell_type": "code",
   "execution_count": 13,
   "id": "3c17cb1e-f960-4588-baeb-81e88fa05b41",
   "metadata": {},
   "outputs": [
    {
     "data": {
      "text/plain": [
       "(20,)"
      ]
     },
     "execution_count": 13,
     "metadata": {},
     "output_type": "execute_result"
    }
   ],
   "source": [
    "age.shape"
   ]
  },
  {
   "cell_type": "code",
   "execution_count": 15,
   "id": "bc7f3a3c-e8c8-48db-9042-996f2f72886d",
   "metadata": {},
   "outputs": [
    {
     "data": {
      "text/plain": [
       "array([12, 14, 25, 26, 28, 30, 35, 40, 45, 50, 55, 75])"
      ]
     },
     "execution_count": 15,
     "metadata": {},
     "output_type": "execute_result"
    }
   ],
   "source": [
    "np.unique(age)"
   ]
  },
  {
   "cell_type": "code",
   "execution_count": 17,
   "id": "080c557b-ffa5-4271-aec4-dd1ee25bfb13",
   "metadata": {},
   "outputs": [
    {
     "data": {
      "text/plain": [
       "20"
      ]
     },
     "execution_count": 17,
     "metadata": {},
     "output_type": "execute_result"
    }
   ],
   "source": [
    "np.count_nonzero(age)"
   ]
  },
  {
   "cell_type": "code",
   "execution_count": 19,
   "id": "59a91bfc-6e53-4126-9fbb-a9b359d1445b",
   "metadata": {},
   "outputs": [
    {
     "data": {
      "text/plain": [
       "3"
      ]
     },
     "execution_count": 19,
     "metadata": {},
     "output_type": "execute_result"
    }
   ],
   "source": [
    "np.count_nonzero(age==30)"
   ]
  },
  {
   "cell_type": "code",
   "execution_count": 21,
   "id": "28941e3d-ac28-47b9-b0f4-60eec399025e",
   "metadata": {},
   "outputs": [
    {
     "name": "stdout",
     "output_type": "stream",
     "text": [
      "12  -->  1\n",
      "14  -->  1\n",
      "25  -->  3\n",
      "26  -->  1\n",
      "28  -->  1\n",
      "30  -->  3\n",
      "35  -->  2\n",
      "40  -->  2\n",
      "45  -->  1\n",
      "50  -->  3\n",
      "55  -->  1\n",
      "75  -->  1\n"
     ]
    }
   ],
   "source": [
    "for x in np.unique(age):\n",
    "    print(x, \" --> \", np.count_nonzero(age==x))"
   ]
  },
  {
   "cell_type": "code",
   "execution_count": 29,
   "id": "b7883d5d-7dcf-461b-a7a0-3b4a394a3d85",
   "metadata": {},
   "outputs": [],
   "source": [
    "Xi = np.unique(age)\n",
    "\n",
    "T = age.size\n",
    "\n",
    "Ni = []\n",
    "for x in Xi:\n",
    "    Ni.append(np.count_nonzero(age==x))\n",
    "\n",
    "Ni = np.array(Ni)\n",
    "\n",
    "fi = Ni/T\n",
    "\n",
    "Ncc = []\n",
    "Ni_l = Ni.tolist()\n",
    "Ncc.append(Ni[0])\n",
    "\n",
    "for i in range(1, Xi.size):\n",
    "    Ncc.append(Ncc[i-1]+Ni_l[i])\n",
    "\n",
    "Ncc = np.array(Ncc)\n",
    "Fcc = Ncc / T"
   ]
  },
  {
   "cell_type": "code",
   "execution_count": 31,
   "id": "a232ff51-2705-41a9-b1a9-598e6ca7dc41",
   "metadata": {},
   "outputs": [
    {
     "data": {
      "text/plain": [
       "array([12, 14, 25, 26, 28, 30, 35, 40, 45, 50, 55, 75])"
      ]
     },
     "execution_count": 31,
     "metadata": {},
     "output_type": "execute_result"
    }
   ],
   "source": [
    "Xi"
   ]
  },
  {
   "cell_type": "code",
   "execution_count": 33,
   "id": "add3c85a-66b1-4ea7-97f7-02190ebf41ff",
   "metadata": {},
   "outputs": [
    {
     "data": {
      "text/plain": [
       "array([1, 1, 3, 1, 1, 3, 2, 2, 1, 3, 1, 1])"
      ]
     },
     "execution_count": 33,
     "metadata": {},
     "output_type": "execute_result"
    }
   ],
   "source": [
    "Ni"
   ]
  },
  {
   "cell_type": "code",
   "execution_count": 35,
   "id": "443a6662-f338-4c43-9cfe-3dbad5a08b32",
   "metadata": {},
   "outputs": [
    {
     "data": {
      "text/plain": [
       "20"
      ]
     },
     "execution_count": 35,
     "metadata": {},
     "output_type": "execute_result"
    }
   ],
   "source": [
    "T"
   ]
  },
  {
   "cell_type": "code",
   "execution_count": 39,
   "id": "42627b04-d0b2-42c1-983a-1753f6509929",
   "metadata": {},
   "outputs": [
    {
     "data": {
      "text/plain": [
       "array([0.05, 0.05, 0.15, 0.05, 0.05, 0.15, 0.1 , 0.1 , 0.05, 0.15, 0.05,\n",
       "       0.05])"
      ]
     },
     "execution_count": 39,
     "metadata": {},
     "output_type": "execute_result"
    }
   ],
   "source": [
    "fi"
   ]
  },
  {
   "cell_type": "code",
   "execution_count": 41,
   "id": "e2805b9c-8084-4ebf-8008-dba635b936f9",
   "metadata": {},
   "outputs": [
    {
     "data": {
      "text/plain": [
       "array([ 1,  2,  5,  6,  7, 10, 12, 14, 15, 18, 19, 20])"
      ]
     },
     "execution_count": 41,
     "metadata": {},
     "output_type": "execute_result"
    }
   ],
   "source": [
    "Ncc"
   ]
  },
  {
   "cell_type": "code",
   "execution_count": null,
   "id": "0285265b-6f84-4bc6-b535-312fbbfb76af",
   "metadata": {},
   "outputs": [],
   "source": []
  }
 ],
 "metadata": {
  "kernelspec": {
   "display_name": "Python 3 (ipykernel)",
   "language": "python",
   "name": "python3"
  },
  "language_info": {
   "codemirror_mode": {
    "name": "ipython",
    "version": 3
   },
   "file_extension": ".py",
   "mimetype": "text/x-python",
   "name": "python",
   "nbconvert_exporter": "python",
   "pygments_lexer": "ipython3",
   "version": "3.11.7"
  }
 },
 "nbformat": 4,
 "nbformat_minor": 5
}
